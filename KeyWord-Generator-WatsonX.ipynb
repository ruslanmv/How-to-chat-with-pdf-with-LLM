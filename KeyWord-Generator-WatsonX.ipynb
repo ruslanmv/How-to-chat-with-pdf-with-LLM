{
 "cells": [
  {
   "cell_type": "markdown",
   "id": "6c2ce223",
   "metadata": {},
   "source": [
    "# ArXiv keyword Generator with WatsonX\n",
    "\n",
    "We are interested to generate the keywords used in the search engine of ArXiv to find information\n"
   ]
  },
  {
   "cell_type": "markdown",
   "id": "866c0e65",
   "metadata": {},
   "source": [
    "For the following question which keyword is more important to use to search in Arxiv API\n",
    "question=question = \"What are the most effective treatments for cardiovascular diseases, and how can they be made more accessible to patients worldwide?\" and save it as variable in python"
   ]
  },
  {
   "cell_type": "code",
   "execution_count": 86,
   "id": "71430cb6",
   "metadata": {},
   "outputs": [
    {
     "name": "stdout",
     "output_type": "stream",
     "text": [
      "About to create bearer\n",
      "Bearer retrieved\n"
     ]
    }
   ],
   "source": [
    "import os\n",
    "from dotenv import load_dotenv\n",
    "from PyPDF2 import PdfReader\n",
    "from langchain.text_splitter import CharacterTextSplitter\n",
    "from ibm_watson_machine_learning.metanames import GenTextParamsMetaNames as GenParams\n",
    "from ibm_watson_machine_learning.foundation_models.utils.enums import ModelTypes\n",
    "from langchain.vectorstores import FAISS\n",
    "from langchain.embeddings import TensorflowHubEmbeddings\n",
    "from langchain.memory import ConversationBufferMemory\n",
    "from langchain.chains import ConversationalRetrievalChain\n",
    "from langchain import PromptTemplate\n",
    "from langchain.chains import LLMChain\n",
    "from ibm_watson_machine_learning.foundation_models import Model\n",
    "from ibm_watson_machine_learning.foundation_models.utils.enums import ModelTypes\n",
    "from ibm_watson_machine_learning.foundation_models import Model\n",
    "from ibm_watson_machine_learning.foundation_models.utils.enums import ModelTypes\n",
    "\n",
    "\n",
    "load_dotenv()\n",
    "project_id = os.getenv(\"PROJECT_ID\", None)\n",
    "credentials = {\n",
    "        \"url\": \"https://us-south.ml.cloud.ibm.com\",\n",
    "        \"apikey\": os.getenv(\"API_KEY\", None)\n",
    "        }    \n",
    "#this cell should never fail, and will produce no output\n",
    "import requests\n",
    "\n",
    "def getBearer(apikey):\n",
    "    form = {'apikey': apikey, 'grant_type': \"urn:ibm:params:oauth:grant-type:apikey\"}\n",
    "    print(\"About to create bearer\")\n",
    "#    print(form)\n",
    "    response = requests.post(\"https://iam.cloud.ibm.com/oidc/token\", data = form)\n",
    "    if response.status_code != 200:\n",
    "        print(\"Bad response code retrieving token\")\n",
    "        raise Exception(\"Failed to get token, invalid status\")\n",
    "    json = response.json()\n",
    "    if not json:\n",
    "        print(\"Invalid/no JSON retrieving token\")\n",
    "        raise Exception(\"Failed to get token, invalid response\")\n",
    "    print(\"Bearer retrieved\")\n",
    "    return json.get(\"access_token\")\n",
    "\n",
    "credentials[\"token\"] = getBearer(credentials[\"apikey\"])\n",
    "from ibm_watson_machine_learning.foundation_models import Model"
   ]
  },
  {
   "cell_type": "code",
   "execution_count": 87,
   "id": "04f16552",
   "metadata": {},
   "outputs": [],
   "source": [
    "model_ids = [model.name for model in ModelTypes]"
   ]
  },
  {
   "cell_type": "code",
   "execution_count": 88,
   "id": "c91e0812",
   "metadata": {},
   "outputs": [],
   "source": [
    "parameters = {\n",
    "    GenParams.DECODING_METHOD: \"greedy\",\n",
    "    GenParams.MAX_NEW_TOKENS: 50,\n",
    "    GenParams.MIN_NEW_TOKENS: 1,\n",
    "    #GenParams.STOP_SEQUENCES: [\"\\n\"],\n",
    "    \n",
    "    GenParams.STOP_SEQUENCES: [\"<|endoftext|>\"],\n",
    "    GenParams.REPETITION_PENALTY:1,\n",
    "    \n",
    "    }"
   ]
  },
  {
   "cell_type": "code",
   "execution_count": 89,
   "id": "92563859",
   "metadata": {},
   "outputs": [],
   "source": [
    "def call_model(model_id):\n",
    "    # Initialize the Watsonx foundation model\n",
    "    llm_model= Model(\n",
    "        model_id=ModelTypes[model_id], \n",
    "        params=parameters, \n",
    "        credentials=credentials,\n",
    "        project_id=project_id)\n",
    "    question= \"What are the most effective treatments for cardiovascular diseases, and how can they be made more accessible to patients worldwide?\"\n",
    "    #prompt = \"Considering the question '{}' and the topic of interest, please identify the top 5 most relevant keywords for querying the Arxiv API. Provide your response as a Python list.\".format(question)\n",
    "    prompt = f\"Considering the following question, generate 3 keywords are most significant to use when searching in the Arxiv API: {question}. Please provide your response as a Python list.\"\n",
    "    #prompt = \"To effectively retrieve information from the Arxiv API regarding {}, which specific keyword(s) would be most crucial? Please provide your answer as a list in Python format.\".format(question)\n",
    "    #prompt = \"For the following question which keyword is more important to use to search in Arxiv API {} , answer only with a python list\".format(question)\n",
    "    result=llm_model.generate(prompt)['results'][0]['generated_text']\n",
    "    return result"
   ]
  },
  {
   "cell_type": "code",
   "execution_count": null,
   "id": "dad0450c",
   "metadata": {},
   "outputs": [],
   "source": []
  },
  {
   "cell_type": "code",
   "execution_count": 33,
   "id": "603b73fa",
   "metadata": {},
   "outputs": [],
   "source": [
    "#model_ids"
   ]
  },
  {
   "cell_type": "code",
   "execution_count": 34,
   "id": "8f0d8a96",
   "metadata": {},
   "outputs": [],
   "source": [
    "results=call_model('FLAN_T5_XXL')"
   ]
  },
  {
   "cell_type": "code",
   "execution_count": 35,
   "id": "d33fb35f",
   "metadata": {},
   "outputs": [
    {
     "name": "stdout",
     "output_type": "stream",
     "text": [
      "cardiovascular, disease, treatment\n"
     ]
    }
   ],
   "source": [
    "print(results)"
   ]
  },
  {
   "cell_type": "code",
   "execution_count": 36,
   "id": "ab73d067",
   "metadata": {},
   "outputs": [
    {
     "name": "stdout",
     "output_type": "stream",
     "text": [
      "FLAN_T5_XXL\n",
      "cardiovascular, disease, treatment\n",
      "FLAN_UL2\n",
      "cardiovascular, disease, treatment\n",
      "MT0_XXL\n",
      "cardiovascular, treatment, worldwide\n",
      "GPT_NEOX\n",
      "\n",
      "\n",
      "A:\n",
      "\n",
      "I would use the following:\n",
      "\n",
      "cardiovascular diseases\n",
      "cardiovascular\n",
      "cardiovascular disease\n",
      "\n",
      "The first one is the most general, the second one is the most specific, and the third one is the most common\n",
      "MPT_7B_INSTRUCT2\n",
      "\n",
      "The most effective treatments for cardiovascular diseases are statins, blood pressure medications, and cholesterol-lowering diets. These treatments can be made more accessible to patients worldwide by providing them with more affordable medications, educating patients about the importance of following a\n",
      "STARCODER\n",
      "\n",
      "\n",
      "# In[1]:\n",
      "\n",
      "\n",
      "import requests\n",
      "import json\n",
      "import pandas as pd\n",
      "import numpy as np\n",
      "import matplotlib.pyplot as plt\n",
      "import seaborn as sns\n",
      "import nltk\n",
      "from nltk.corpus import stopwords\n",
      "from nltk\n",
      "LLAMA_2_70B_CHAT\n",
      "\n",
      "\n",
      "Answer: Here are three keywords that could be used when searching the ArXiv API for articles related to the question \"What are the most effective treatments for cardiovascular diseases, and how can they be made more accessible\n",
      "GRANITE_13B_INSTRUCT\n",
      " The following are the most effective treatments for cardiovascular diseases: statins, beta blockers, and ACE inhibitors.\n",
      "GRANITE_13B_CHAT\n",
      " ['cardiovascular diseases', 'treatments', 'accessibility']<|endoftext|>\n"
     ]
    }
   ],
   "source": [
    "for models in model_ids:\n",
    "    print(models)\n",
    "    results=call_model(models)\n",
    "    print(results)\n",
    "    "
   ]
  },
  {
   "cell_type": "code",
   "execution_count": 37,
   "id": "2e74e822",
   "metadata": {},
   "outputs": [],
   "source": [
    "def call_model_flan(question):\n",
    "    # Initialize the Watsonx foundation model\n",
    "    llm_model= Model(\n",
    "        model_id=ModelTypes['FLAN_T5_XXL'], \n",
    "        params=parameters, \n",
    "        credentials=credentials,\n",
    "        project_id=project_id)\n",
    "    prompt = f\"Considering the following question, generate 3 keywords are most significant to use when searching in the Arxiv API ,provide your response as a Python list: {question}. \"\n",
    "    result=llm_model.generate(prompt)['results'][0]['generated_text']\n",
    "\n",
    "    # Convert string to a list of individual words\n",
    "    word_list = result.split(', ')    \n",
    "    \n",
    "    return word_list"
   ]
  },
  {
   "cell_type": "code",
   "execution_count": 38,
   "id": "36f82f85",
   "metadata": {},
   "outputs": [],
   "source": [
    "question= \"What are the most effective treatments for cardiovascular diseases, and how can they be made more accessible to patients worldwide?\""
   ]
  },
  {
   "cell_type": "code",
   "execution_count": 39,
   "id": "c2029591",
   "metadata": {},
   "outputs": [],
   "source": [
    "result=call_model_flan(question)"
   ]
  },
  {
   "cell_type": "code",
   "execution_count": 40,
   "id": "39f70890",
   "metadata": {},
   "outputs": [
    {
     "data": {
      "text/plain": [
       "['cardiovascular', 'disease', 'treatment']"
      ]
     },
     "execution_count": 40,
     "metadata": {},
     "output_type": "execute_result"
    }
   ],
   "source": [
    "result"
   ]
  },
  {
   "cell_type": "code",
   "execution_count": 41,
   "id": "945f2682",
   "metadata": {},
   "outputs": [],
   "source": [
    "questions = [\n",
    "    \"What are the current therapies with Tinnitus?\",\n",
    "    \"What are the most effective treatments for cardiovascular diseases, and how can they be made more accessible to patients worldwide?\",\n",
    "    \"How can early detection and prevention strategies for cancer be improved and implemented on a global scale?\",\n",
    "    \"What are the key factors contributing to the rise of diabetes, and how can lifestyle interventions be used to combat this epidemic?\",\n",
    "    \"How can we develop more effective vaccines and treatments for respiratory infections such as pneumonia and influenza?\",\n",
    "    \"What are the most promising advances in Alzheimer's disease research, and how can these findings be translated into clinical practice?\",\n",
    "    \"What strategies can be employed to prevent and manage the growing global burden of chronic kidney disease?\",\n",
    "    \"How can we improve the understanding of mental health disorders, such as depression and anxiety, to develop more effective therapies?\",\n",
    "    \"What are the most significant challenges in eradicating malaria, and how can we overcome them?\",\n",
    "    \"How can we improve access to HIV/AIDS treatment and prevention methods in regions with high prevalence rates?\",\n",
    "    \"What are the most effective ways to prevent and treat malnutrition in children and adults worldwide?\",\n",
    "    \"How can we address the global rise in antibiotic resistance, and what alternative treatments can be developed for bacterial infections?\",\n",
    "    \"What are the key factors driving the obesity epidemic, and how can public health interventions help reverse this trend?\",\n",
    "    \"How can we improve our understanding of the genetic and environmental factors contributing to autoimmune diseases such as lupus and rheumatoid arthritis?\",\n",
    "    \"What are the most promising areas of research for developing new treatments for chronic pain conditions?\",\n",
    "    \"How can we better understand and manage the global burden of neurological disorders, such as multiple sclerosis and Parkinson's disease?\",\n",
    "    \"What are the most effective strategies for reducing the impact of substance abuse and addiction on individuals and communities?\",\n",
    "    \"How can we improve the early detection and treatment of rare genetic disorders, such as cystic fibrosis and muscular dystrophy?\",\n",
    "    \"What are the most significant challenges in combating neglected tropical diseases, and how can we address these issues?\",\n",
    "    \"How can we develop more effective interventions for preventing and treating age-related diseases, such as osteoporosis and macular degeneration?\",\n",
    "    \"What are the most promising areas of research for understanding and treating chronic liver diseases, including hepatitis and cirrhosis?\",\n",
    "]"
   ]
  },
  {
   "cell_type": "code",
   "execution_count": 42,
   "id": "5796fc8a",
   "metadata": {},
   "outputs": [
    {
     "name": "stdout",
     "output_type": "stream",
     "text": [
      "['tinnitus', 'therapy', 'tinnitus']   What are the current therapies with Tinnitus?\n",
      "['cardiovascular', 'disease', 'treatment']   What are the most effective treatments for cardiovascular diseases, and how can they be made more accessible to patients worldwide?\n",
      "['cancer', 'detection', 'prevention']   How can early detection and prevention strategies for cancer be improved and implemented on a global scale?\n",
      "['diabetes', 'epidemic', 'lifestyle', 'intervention']   What are the key factors contributing to the rise of diabetes, and how can lifestyle interventions be used to combat this epidemic?\n",
      "['influenza', 'pneumonia', 'treatment']   How can we develop more effective vaccines and treatments for respiratory infections such as pneumonia and influenza?\n",
      "[\"alzheimer's\", 'disease', 'practice']   What are the most promising advances in Alzheimer's disease research, and how can these findings be translated into clinical practice?\n",
      "['chronic', 'disease', 'manage', 'prevent', 'strategy']   What strategies can be employed to prevent and manage the growing global burden of chronic kidney disease?\n",
      "['depression', 'disorder', 'improve', 'understanding']   How can we improve the understanding of mental health disorders, such as depression and anxiety, to develop more effective therapies?\n",
      "['malaria', 'eradicate', 'overcome']   What are the most significant challenges in eradicating malaria, and how can we overcome them?\n",
      "['AIDS', 'access', 'prevention', 'treatment']   How can we improve access to HIV/AIDS treatment and prevention methods in regions with high prevalence rates?\n",
      "['malnutrition', 'prevent', 'treat']   What are the most effective ways to prevent and treat malnutrition in children and adults worldwide?\n",
      "['antibiotic', 'rise', 'treatment']   How can we address the global rise in antibiotic resistance, and what alternative treatments can be developed for bacterial infections?\n",
      "['obesity', 'public', 'trend']   What are the key factors driving the obesity epidemic, and how can public health interventions help reverse this trend?\n",
      "['arthritic', 'lupus', 'rheumatoid']   How can we improve our understanding of the genetic and environmental factors contributing to autoimmune diseases such as lupus and rheumatoid arthritis?\n",
      "['chronic', 'pain', 'treatment']   What are the most promising areas of research for developing new treatments for chronic pain conditions?\n",
      "['burden', 'disease', 'manage']   How can we better understand and manage the global burden of neurological disorders, such as multiple sclerosis and Parkinson's disease?\n",
      "['abuse', 'addiction', 'community', 'reduce', 'strategy']   What are the most effective strategies for reducing the impact of substance abuse and addiction on individuals and communities?\n",
      "['cystic', 'fibrosis', 'muscular', 'dystrophy']   How can we improve the early detection and treatment of rare genetic disorders, such as cystic fibrosis and muscular dystrophy?\n",
      "['combat', 'disease', 'neglect']   What are the most significant challenges in combating neglected tropical diseases, and how can we address these issues?\n",
      "['age', 'disease', 'prevention', 'treatment']   How can we develop more effective interventions for preventing and treating age-related diseases, such as osteoporosis and macular degeneration?\n",
      "['cirrhosis', 'hepatitis', 'liver']   What are the most promising areas of research for understanding and treating chronic liver diseases, including hepatitis and cirrhosis?\n"
     ]
    }
   ],
   "source": [
    "for question in questions:\n",
    "    output=call_model_flan(question)\n",
    "    print(output, \" \" , question)"
   ]
  },
  {
   "cell_type": "code",
   "execution_count": 43,
   "id": "63adce70",
   "metadata": {},
   "outputs": [],
   "source": [
    "original_list =['tinnitus', 'therapy', 'tinnitus']"
   ]
  },
  {
   "cell_type": "code",
   "execution_count": 44,
   "id": "bf9ad8f1",
   "metadata": {},
   "outputs": [],
   "source": [
    "unique_list = list(set(original_list))"
   ]
  },
  {
   "cell_type": "code",
   "execution_count": 47,
   "id": "c6517b79",
   "metadata": {},
   "outputs": [
    {
     "data": {
      "text/plain": [
       "['therapy', 'tinnitus']"
      ]
     },
     "execution_count": 47,
     "metadata": {},
     "output_type": "execute_result"
    }
   ],
   "source": [
    "unique_list"
   ]
  },
  {
   "cell_type": "code",
   "execution_count": 80,
   "id": "5b9b1bc9",
   "metadata": {},
   "outputs": [],
   "source": [
    "# full topic creation\n",
    "topic = ' '.join(unique_list)"
   ]
  },
  {
   "cell_type": "code",
   "execution_count": 81,
   "id": "fd696d12",
   "metadata": {},
   "outputs": [],
   "source": [
    "#topic ='tinnitus'"
   ]
  },
  {
   "cell_type": "code",
   "execution_count": 82,
   "id": "4823d650",
   "metadata": {},
   "outputs": [],
   "source": [
    "#pip install arxiv"
   ]
  },
  {
   "cell_type": "code",
   "execution_count": 83,
   "id": "d259ab9c",
   "metadata": {},
   "outputs": [],
   "source": [
    "# combinations of single topics\n",
    "titles = list()\n",
    "authors = list()\n",
    "summary = list()\n",
    "pdf_url = list()"
   ]
  },
  {
   "cell_type": "code",
   "execution_count": 92,
   "id": "260d64d8",
   "metadata": {},
   "outputs": [],
   "source": [
    "import arxiv\n",
    "search = arxiv.Search(\n",
    "  query = topic,\n",
    "  max_results = 10,\n",
    "  sort_by = arxiv.SortCriterion.Relevance\n",
    "   #SubmittedDate #TODO Include it\n",
    ")"
   ]
  },
  {
   "cell_type": "code",
   "execution_count": 93,
   "id": "bc1736d7",
   "metadata": {},
   "outputs": [
    {
     "name": "stdout",
     "output_type": "stream",
     "text": [
      "Fetching items for token: therapy tinnitus\n"
     ]
    }
   ],
   "source": [
    "print('Fetching items for token: {}'.format(topic))  \n",
    "titles = [result.title for result in arxiv.Client().results(search)]\n",
    "authors = [result.authors for result in arxiv.Client().results(search)]\n",
    "summary = [result.summary for result in arxiv.Client().results(search)]\n",
    "entry_id = [result.entry_id for result in arxiv.Client().results(search)]\n",
    "pdf_url = [result.pdf_url for result in arxiv.Client().results(search)]\n",
    "categories = [result.categories for result in arxiv.Client().results(search)]\n",
    "comment = [result.comment for result in arxiv.Client().results(search)]\n",
    "doi = [result.doi for result in arxiv.Client().results(search)]\n",
    "published = [result.published for result in arxiv.Client().results(search)]"
   ]
  },
  {
   "cell_type": "code",
   "execution_count": 94,
   "id": "5624bd3b",
   "metadata": {},
   "outputs": [],
   "source": [
    "df = pd.DataFrame({\n",
    "    'title': titles,\n",
    "    'authors': authors,\n",
    "    'summary': summary,\n",
    "    'pdf_url': pdf_url,\n",
    "    'categories': categories,\n",
    "    'published': published\n",
    "})"
   ]
  },
  {
   "cell_type": "code",
   "execution_count": 95,
   "id": "bc0c4148",
   "metadata": {},
   "outputs": [
    {
     "data": {
      "text/html": [
       "<div>\n",
       "<style scoped>\n",
       "    .dataframe tbody tr th:only-of-type {\n",
       "        vertical-align: middle;\n",
       "    }\n",
       "\n",
       "    .dataframe tbody tr th {\n",
       "        vertical-align: top;\n",
       "    }\n",
       "\n",
       "    .dataframe thead th {\n",
       "        text-align: right;\n",
       "    }\n",
       "</style>\n",
       "<table border=\"1\" class=\"dataframe\">\n",
       "  <thead>\n",
       "    <tr style=\"text-align: right;\">\n",
       "      <th></th>\n",
       "      <th>title</th>\n",
       "      <th>authors</th>\n",
       "      <th>summary</th>\n",
       "      <th>pdf_url</th>\n",
       "      <th>categories</th>\n",
       "      <th>published</th>\n",
       "    </tr>\n",
       "  </thead>\n",
       "  <tbody>\n",
       "    <tr>\n",
       "      <th>0</th>\n",
       "      <td>Side-aware Meta-Learning for Cross-Dataset Lis...</td>\n",
       "      <td>[Yun Li, Zhe Liu, Lina Yao, Molly Lucas, Jessi...</td>\n",
       "      <td>With the development of digital technology, ma...</td>\n",
       "      <td>http://arxiv.org/pdf/2205.03231v1</td>\n",
       "      <td>[eess.SP, cs.LG]</td>\n",
       "      <td>2022-05-03 03:17:44+00:00</td>\n",
       "    </tr>\n",
       "    <tr>\n",
       "      <th>1</th>\n",
       "      <td>Towards a Cognitive Computational Neuroscience...</td>\n",
       "      <td>[Patrick Krauss, Achim Schilling]</td>\n",
       "      <td>In order to gain a mechanistic understanding o...</td>\n",
       "      <td>http://arxiv.org/pdf/2010.01914v1</td>\n",
       "      <td>[q-bio.NC]</td>\n",
       "      <td>2020-10-05 10:55:03+00:00</td>\n",
       "    </tr>\n",
       "    <tr>\n",
       "      <th>2</th>\n",
       "      <td>The Complex-Pole Filter Representation (COFRE)...</td>\n",
       "      <td>[Marco A. Pinto Orellana, Peyman Mirtaheri, Hu...</td>\n",
       "      <td>The complex-pole frequency representation (COF...</td>\n",
       "      <td>http://arxiv.org/pdf/2105.13476v1</td>\n",
       "      <td>[q-bio.QM, physics.med-ph, stat.ME]</td>\n",
       "      <td>2021-05-13 16:42:00+00:00</td>\n",
       "    </tr>\n",
       "    <tr>\n",
       "      <th>3</th>\n",
       "      <td>Disentangled and Side-aware Unsupervised Domai...</td>\n",
       "      <td>[Yun Li, Zhe Liu, Lina Yao, Jessica J. M. Mona...</td>\n",
       "      <td>EEG-based tinnitus classification is a valuabl...</td>\n",
       "      <td>http://arxiv.org/pdf/2205.03230v2</td>\n",
       "      <td>[eess.SP, cs.LG]</td>\n",
       "      <td>2022-05-03 05:22:04+00:00</td>\n",
       "    </tr>\n",
       "    <tr>\n",
       "      <th>4</th>\n",
       "      <td>Predictive coding and stochastic resonance as ...</td>\n",
       "      <td>[Achim Schilling, William Sedley, Richard Geru...</td>\n",
       "      <td>How is information processed in the brain duri...</td>\n",
       "      <td>http://arxiv.org/pdf/2204.03354v2</td>\n",
       "      <td>[q-bio.NC, cs.AI]</td>\n",
       "      <td>2022-04-07 10:47:58+00:00</td>\n",
       "    </tr>\n",
       "    <tr>\n",
       "      <th>5</th>\n",
       "      <td>Open(G)PIAS: An open source solution for the c...</td>\n",
       "      <td>[Richard Gerum, Hinrich Rahlfs, Matthias Streb...</td>\n",
       "      <td>The acoustic startle reflex (ASR) that can be ...</td>\n",
       "      <td>http://arxiv.org/pdf/1804.09667v1</td>\n",
       "      <td>[q-bio.NC]</td>\n",
       "      <td>2018-04-25 16:31:53+00:00</td>\n",
       "    </tr>\n",
       "    <tr>\n",
       "      <th>6</th>\n",
       "      <td>UNITI Mobile -- EMI-Apps for a Large-Scale Eur...</td>\n",
       "      <td>[Carsten Vogel, Johannes Schobel, Winfried Sch...</td>\n",
       "      <td>More and more observational studies exploit th...</td>\n",
       "      <td>http://arxiv.org/pdf/2107.14029v1</td>\n",
       "      <td>[cs.OH, D.2.13; J.3; J.4; H.4.0]</td>\n",
       "      <td>2021-07-22 20:31:00+00:00</td>\n",
       "    </tr>\n",
       "    <tr>\n",
       "      <th>7</th>\n",
       "      <td>Challenges in constructing genetic instruments...</td>\n",
       "      <td>[B. A. Ference, G. Davey Smith, M. V. Holmes, ...</td>\n",
       "      <td>The genes that encode the targets of most ther...</td>\n",
       "      <td>http://arxiv.org/pdf/2007.13115v1</td>\n",
       "      <td>[q-bio.QM]</td>\n",
       "      <td>2020-07-26 12:22:16+00:00</td>\n",
       "    </tr>\n",
       "    <tr>\n",
       "      <th>8</th>\n",
       "      <td>In Silico Implementation of Evolutionary Parad...</td>\n",
       "      <td>[Branislav Brutovsky, Denis Horvath]</td>\n",
       "      <td>In here presented in silico study we suggest a...</td>\n",
       "      <td>http://arxiv.org/pdf/1811.06262v3</td>\n",
       "      <td>[q-bio.PE]</td>\n",
       "      <td>2018-11-15 10:00:11+00:00</td>\n",
       "    </tr>\n",
       "    <tr>\n",
       "      <th>9</th>\n",
       "      <td>Stochastic resonance controlled upregulation o...</td>\n",
       "      <td>[Patrick Krauss, Konstantin Tziridis, Achim Sc...</td>\n",
       "      <td>Subjective tinnitus (ST) is generally assumed ...</td>\n",
       "      <td>http://arxiv.org/pdf/1603.04721v1</td>\n",
       "      <td>[q-bio.QM, q-bio.NC]</td>\n",
       "      <td>2016-03-15 15:27:19+00:00</td>\n",
       "    </tr>\n",
       "  </tbody>\n",
       "</table>\n",
       "</div>"
      ],
      "text/plain": [
       "                                               title  \\\n",
       "0  Side-aware Meta-Learning for Cross-Dataset Lis...   \n",
       "1  Towards a Cognitive Computational Neuroscience...   \n",
       "2  The Complex-Pole Filter Representation (COFRE)...   \n",
       "3  Disentangled and Side-aware Unsupervised Domai...   \n",
       "4  Predictive coding and stochastic resonance as ...   \n",
       "5  Open(G)PIAS: An open source solution for the c...   \n",
       "6  UNITI Mobile -- EMI-Apps for a Large-Scale Eur...   \n",
       "7  Challenges in constructing genetic instruments...   \n",
       "8  In Silico Implementation of Evolutionary Parad...   \n",
       "9  Stochastic resonance controlled upregulation o...   \n",
       "\n",
       "                                             authors  \\\n",
       "0  [Yun Li, Zhe Liu, Lina Yao, Molly Lucas, Jessi...   \n",
       "1                  [Patrick Krauss, Achim Schilling]   \n",
       "2  [Marco A. Pinto Orellana, Peyman Mirtaheri, Hu...   \n",
       "3  [Yun Li, Zhe Liu, Lina Yao, Jessica J. M. Mona...   \n",
       "4  [Achim Schilling, William Sedley, Richard Geru...   \n",
       "5  [Richard Gerum, Hinrich Rahlfs, Matthias Streb...   \n",
       "6  [Carsten Vogel, Johannes Schobel, Winfried Sch...   \n",
       "7  [B. A. Ference, G. Davey Smith, M. V. Holmes, ...   \n",
       "8               [Branislav Brutovsky, Denis Horvath]   \n",
       "9  [Patrick Krauss, Konstantin Tziridis, Achim Sc...   \n",
       "\n",
       "                                             summary  \\\n",
       "0  With the development of digital technology, ma...   \n",
       "1  In order to gain a mechanistic understanding o...   \n",
       "2  The complex-pole frequency representation (COF...   \n",
       "3  EEG-based tinnitus classification is a valuabl...   \n",
       "4  How is information processed in the brain duri...   \n",
       "5  The acoustic startle reflex (ASR) that can be ...   \n",
       "6  More and more observational studies exploit th...   \n",
       "7  The genes that encode the targets of most ther...   \n",
       "8  In here presented in silico study we suggest a...   \n",
       "9  Subjective tinnitus (ST) is generally assumed ...   \n",
       "\n",
       "                             pdf_url                           categories  \\\n",
       "0  http://arxiv.org/pdf/2205.03231v1                     [eess.SP, cs.LG]   \n",
       "1  http://arxiv.org/pdf/2010.01914v1                           [q-bio.NC]   \n",
       "2  http://arxiv.org/pdf/2105.13476v1  [q-bio.QM, physics.med-ph, stat.ME]   \n",
       "3  http://arxiv.org/pdf/2205.03230v2                     [eess.SP, cs.LG]   \n",
       "4  http://arxiv.org/pdf/2204.03354v2                    [q-bio.NC, cs.AI]   \n",
       "5  http://arxiv.org/pdf/1804.09667v1                           [q-bio.NC]   \n",
       "6  http://arxiv.org/pdf/2107.14029v1     [cs.OH, D.2.13; J.3; J.4; H.4.0]   \n",
       "7  http://arxiv.org/pdf/2007.13115v1                           [q-bio.QM]   \n",
       "8  http://arxiv.org/pdf/1811.06262v3                           [q-bio.PE]   \n",
       "9  http://arxiv.org/pdf/1603.04721v1                 [q-bio.QM, q-bio.NC]   \n",
       "\n",
       "                  published  \n",
       "0 2022-05-03 03:17:44+00:00  \n",
       "1 2020-10-05 10:55:03+00:00  \n",
       "2 2021-05-13 16:42:00+00:00  \n",
       "3 2022-05-03 05:22:04+00:00  \n",
       "4 2022-04-07 10:47:58+00:00  \n",
       "5 2018-04-25 16:31:53+00:00  \n",
       "6 2021-07-22 20:31:00+00:00  \n",
       "7 2020-07-26 12:22:16+00:00  \n",
       "8 2018-11-15 10:00:11+00:00  \n",
       "9 2016-03-15 15:27:19+00:00  "
      ]
     },
     "execution_count": 95,
     "metadata": {},
     "output_type": "execute_result"
    }
   ],
   "source": [
    "df"
   ]
  },
  {
   "cell_type": "code",
   "execution_count": 99,
   "id": "d31d668e",
   "metadata": {},
   "outputs": [
    {
     "data": {
      "text/plain": [
       "['http://arxiv.org/pdf/2205.03231v1',\n",
       " 'http://arxiv.org/pdf/2010.01914v1',\n",
       " 'http://arxiv.org/pdf/2105.13476v1',\n",
       " 'http://arxiv.org/pdf/2205.03230v2',\n",
       " 'http://arxiv.org/pdf/2204.03354v2',\n",
       " 'http://arxiv.org/pdf/1804.09667v1',\n",
       " 'http://arxiv.org/pdf/2107.14029v1',\n",
       " 'http://arxiv.org/pdf/2007.13115v1',\n",
       " 'http://arxiv.org/pdf/1811.06262v3',\n",
       " 'http://arxiv.org/pdf/1603.04721v1']"
      ]
     },
     "execution_count": 99,
     "metadata": {},
     "output_type": "execute_result"
    }
   ],
   "source": [
    "df['pdf_url'].values.tolist()"
   ]
  },
  {
   "cell_type": "code",
   "execution_count": 105,
   "id": "d7a0d312",
   "metadata": {},
   "outputs": [],
   "source": [
    "import requests\n",
    "import os\n",
    "import tempfile\n",
    "\n",
    "def download_pdf(url, filename):\n",
    "    response = requests.get(url)\n",
    "    with open(filename, 'wb') as file:\n",
    "        file.write(response.content)\n",
    "\n",
    "def download_pdf_files(url_list):\n",
    "    temp_dir = tempfile.gettempdir()  # Get the temporary directory path\n",
    "    downloaded_files = []  # List to store downloaded file paths\n",
    "    for i, url in enumerate(url_list):\n",
    "        filename = os.path.join(temp_dir, f'file_{i+1}.pdf')  # Set the absolute path in the temporary directory\n",
    "        download_pdf(url, filename)\n",
    "        downloaded_files.append(f'file_{i+1}.pdf')  # Append the file name to the list without the path\n",
    "        print(f'Downloaded: {filename}')\n",
    "    \n",
    "    return downloaded_files  # Return the list of downloaded file names\n",
    "\n",
    "def delete_files_in_temp():\n",
    "    temp_dir = tempfile.gettempdir()  # Get the temporary directory path\n",
    "    for file in os.listdir(temp_dir):\n",
    "        file_path = os.path.join(temp_dir, file)\n",
    "        try:\n",
    "            if os.path.isfile(file_path):\n",
    "                os.unlink(file_path)\n",
    "                print(f\"Deleted: {file_path}\")\n",
    "        except Exception as e:\n",
    "            print(f\"Failed to delete {file_path}: {e}\")\n",
    "\n",
    "# List of PDF URLs\n",
    "url_list = [\n",
    "    'http://arxiv.org/pdf/2205.03231v1',\n",
    "    'http://arxiv.org/pdf/2010.01914v1',\n",
    "    'http://arxiv.org/pdf/2105.13476v1',\n",
    "    'http://arxiv.org/pdf/2205.03230v2',\n",
    "    'http://arxiv.org/pdf/2204.03354v2',\n",
    "    'http://arxiv.org/pdf/1804.09667v1',\n",
    "    'http://arxiv.org/pdf/2107.14029v1',\n",
    "    'http://arxiv.org/pdf/2007.13115v1',\n",
    "    'http://arxiv.org/pdf/1811.06262v3',\n",
    "    'http://arxiv.org/pdf/1603.04721v1'\n",
    "]\n",
    "\n",
    "\n"
   ]
  },
  {
   "cell_type": "code",
   "execution_count": 111,
   "id": "db097efb",
   "metadata": {},
   "outputs": [
    {
     "name": "stdout",
     "output_type": "stream",
     "text": [
      "Downloaded: C:\\Users\\rusla\\AppData\\Local\\Temp\\file_1.pdf\n",
      "Downloaded: C:\\Users\\rusla\\AppData\\Local\\Temp\\file_2.pdf\n",
      "Downloaded: C:\\Users\\rusla\\AppData\\Local\\Temp\\file_3.pdf\n",
      "Downloaded: C:\\Users\\rusla\\AppData\\Local\\Temp\\file_4.pdf\n",
      "Downloaded: C:\\Users\\rusla\\AppData\\Local\\Temp\\file_5.pdf\n",
      "Downloaded: C:\\Users\\rusla\\AppData\\Local\\Temp\\file_6.pdf\n",
      "Downloaded: C:\\Users\\rusla\\AppData\\Local\\Temp\\file_7.pdf\n",
      "Downloaded: C:\\Users\\rusla\\AppData\\Local\\Temp\\file_8.pdf\n",
      "Downloaded: C:\\Users\\rusla\\AppData\\Local\\Temp\\file_9.pdf\n",
      "Downloaded: C:\\Users\\rusla\\AppData\\Local\\Temp\\file_10.pdf\n"
     ]
    }
   ],
   "source": [
    "downloaded_files = download_pdf_files(url_list)\n",
    "\n",
    "\n",
    " "
   ]
  },
  {
   "cell_type": "code",
   "execution_count": 109,
   "id": "75e5a804",
   "metadata": {},
   "outputs": [
    {
     "name": "stdout",
     "output_type": "stream",
     "text": [
      "List of downloaded files:\n",
      "C:\\Users\\rusla\\AppData\\Local\\Temp\\file_1.pdf\n",
      "C:\\Users\\rusla\\AppData\\Local\\Temp\\file_2.pdf\n",
      "C:\\Users\\rusla\\AppData\\Local\\Temp\\file_3.pdf\n",
      "C:\\Users\\rusla\\AppData\\Local\\Temp\\file_4.pdf\n",
      "C:\\Users\\rusla\\AppData\\Local\\Temp\\file_5.pdf\n",
      "C:\\Users\\rusla\\AppData\\Local\\Temp\\file_6.pdf\n",
      "C:\\Users\\rusla\\AppData\\Local\\Temp\\file_7.pdf\n",
      "C:\\Users\\rusla\\AppData\\Local\\Temp\\file_8.pdf\n",
      "C:\\Users\\rusla\\AppData\\Local\\Temp\\file_9.pdf\n",
      "C:\\Users\\rusla\\AppData\\Local\\Temp\\file_10.pdf\n"
     ]
    }
   ],
   "source": [
    "print(\"List of downloaded files:\")\n",
    "for file_name in downloaded_files:\n",
    "    print(file_name)\n",
    "    \n",
    "    \n",
    "  "
   ]
  },
  {
   "cell_type": "code",
   "execution_count": 112,
   "id": "eff75fc3",
   "metadata": {},
   "outputs": [
    {
     "data": {
      "text/plain": [
       "['C:\\\\Users\\\\rusla\\\\AppData\\\\Local\\\\Temp\\\\file_1.pdf',\n",
       " 'C:\\\\Users\\\\rusla\\\\AppData\\\\Local\\\\Temp\\\\file_2.pdf',\n",
       " 'C:\\\\Users\\\\rusla\\\\AppData\\\\Local\\\\Temp\\\\file_3.pdf',\n",
       " 'C:\\\\Users\\\\rusla\\\\AppData\\\\Local\\\\Temp\\\\file_4.pdf',\n",
       " 'C:\\\\Users\\\\rusla\\\\AppData\\\\Local\\\\Temp\\\\file_5.pdf',\n",
       " 'C:\\\\Users\\\\rusla\\\\AppData\\\\Local\\\\Temp\\\\file_6.pdf',\n",
       " 'C:\\\\Users\\\\rusla\\\\AppData\\\\Local\\\\Temp\\\\file_7.pdf',\n",
       " 'C:\\\\Users\\\\rusla\\\\AppData\\\\Local\\\\Temp\\\\file_8.pdf',\n",
       " 'C:\\\\Users\\\\rusla\\\\AppData\\\\Local\\\\Temp\\\\file_9.pdf',\n",
       " 'C:\\\\Users\\\\rusla\\\\AppData\\\\Local\\\\Temp\\\\file_10.pdf']"
      ]
     },
     "execution_count": 112,
     "metadata": {},
     "output_type": "execute_result"
    }
   ],
   "source": [
    "downloaded_files"
   ]
  },
  {
   "cell_type": "code",
   "execution_count": 113,
   "id": "ec3b218d",
   "metadata": {},
   "outputs": [],
   "source": [
    "#delete_files_in_temp()\n"
   ]
  },
  {
   "cell_type": "code",
   "execution_count": null,
   "id": "03ac28f0",
   "metadata": {},
   "outputs": [],
   "source": []
  }
 ],
 "metadata": {
  "kernelspec": {
   "display_name": "Python (chatpdf)",
   "language": "python",
   "name": "chatpdf"
  },
  "language_info": {
   "codemirror_mode": {
    "name": "ipython",
    "version": 3
   },
   "file_extension": ".py",
   "mimetype": "text/x-python",
   "name": "python",
   "nbconvert_exporter": "python",
   "pygments_lexer": "ipython3",
   "version": "3.9.4"
  }
 },
 "nbformat": 4,
 "nbformat_minor": 5
}
