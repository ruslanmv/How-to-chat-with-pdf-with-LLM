{
 "cells": [
  {
   "cell_type": "markdown",
   "id": "639470e8",
   "metadata": {},
   "source": [
    "# Vector Store Creation from Documents"
   ]
  },
  {
   "cell_type": "code",
   "execution_count": 11,
   "id": "6795ba7a",
   "metadata": {},
   "outputs": [],
   "source": [
    "from PyPDF2 import PdfReader\n",
    "from langchain.text_splitter import CharacterTextSplitter\n",
    "\n",
    "import tensorflow as tf\n",
    "import tensorflow_hub as hub\n",
    "import tensorflow_text as text\n",
    "import numpy as np\n",
    "import faiss"
   ]
  },
  {
   "cell_type": "code",
   "execution_count": 3,
   "id": "2faddf6e",
   "metadata": {},
   "outputs": [],
   "source": [
    "# Add your PDF file paths here\n",
    "pdf_files_path =['C:\\\\Users\\\\rusla\\\\AppData\\\\Local\\\\Temp\\\\file_1.pdf',\n",
    " 'C:\\\\Users\\\\rusla\\\\AppData\\\\Local\\\\Temp\\\\file_2.pdf',\n",
    " 'C:\\\\Users\\\\rusla\\\\AppData\\\\Local\\\\Temp\\\\file_3.pdf',\n",
    " 'C:\\\\Users\\\\rusla\\\\AppData\\\\Local\\\\Temp\\\\file_4.pdf',\n",
    " 'C:\\\\Users\\\\rusla\\\\AppData\\\\Local\\\\Temp\\\\file_5.pdf',\n",
    " 'C:\\\\Users\\\\rusla\\\\AppData\\\\Local\\\\Temp\\\\file_6.pdf',\n",
    " 'C:\\\\Users\\\\rusla\\\\AppData\\\\Local\\\\Temp\\\\file_7.pdf',\n",
    " 'C:\\\\Users\\\\rusla\\\\AppData\\\\Local\\\\Temp\\\\file_8.pdf',\n",
    " 'C:\\\\Users\\\\rusla\\\\AppData\\\\Local\\\\Temp\\\\file_9.pdf',\n",
    " 'C:\\\\Users\\\\rusla\\\\AppData\\\\Local\\\\Temp\\\\file_10.pdf']\n",
    "    "
   ]
  },
  {
   "cell_type": "code",
   "execution_count": 9,
   "id": "47a9ed28",
   "metadata": {},
   "outputs": [],
   "source": [
    "# Function to get text from PDF documents\n",
    "def get_pdf_text(pdf_docs):\n",
    "    text = \"\"\n",
    "    for pdf in pdf_docs:\n",
    "        pdf_reader = PdfReader(pdf)\n",
    "        text += \" \".join(page.extract_text() for page in pdf_reader.pages)\n",
    "    return text\n",
    "\n",
    "def get_text_chunks(text):\n",
    "    text_splitter = CharacterTextSplitter(\n",
    "        separator=\"\\n\",\n",
    "        chunk_size=1000,\n",
    "        chunk_overlap=200,\n",
    "        length_function=len\n",
    "    )\n",
    "    chunks = text_splitter.split_text(text)\n",
    "    return chunks\n",
    "\n",
    "def embed_text(text_chunks):\n",
    "    embed = hub.load(\"https://tfhub.dev/google/universal-sentence-encoder-multilingual/3\")\n",
    "    embeddings = embed(text_chunks)\n",
    "    return embeddings.numpy()\n",
    "\n",
    "def get_vectorstore(embeddings):\n",
    "    vectorstore = faiss.IndexFlatL2(embeddings.shape[1])\n",
    "    vectorstore.add(embeddings)\n",
    "    return vectorstore"
   ]
  },
  {
   "cell_type": "code",
   "execution_count": 12,
   "id": "ae10a6c2",
   "metadata": {},
   "outputs": [],
   "source": [
    "# Get PDF text and split into chunks\n",
    "raw_text = get_pdf_text(pdf_files_path)"
   ]
  },
  {
   "cell_type": "code",
   "execution_count": 13,
   "id": "7fbe8627",
   "metadata": {},
   "outputs": [
    {
     "name": "stderr",
     "output_type": "stream",
     "text": [
      "Created a chunk of size 1144, which is longer than the specified 1000\n",
      "Created a chunk of size 1212, which is longer than the specified 1000\n",
      "Created a chunk of size 1211, which is longer than the specified 1000\n"
     ]
    }
   ],
   "source": [
    "text_chunks = get_text_chunks(raw_text)"
   ]
  },
  {
   "cell_type": "code",
   "execution_count": 14,
   "id": "5e9b300e",
   "metadata": {},
   "outputs": [],
   "source": [
    "# Create embeddings and vector store\n",
    "embeddings = embed_text(text_chunks)"
   ]
  },
  {
   "cell_type": "code",
   "execution_count": 15,
   "id": "ff7fdb4a",
   "metadata": {},
   "outputs": [],
   "source": [
    "vectorstore = get_vectorstore(embeddings)"
   ]
  },
  {
   "cell_type": "code",
   "execution_count": 16,
   "id": "d058b510",
   "metadata": {},
   "outputs": [],
   "source": [
    "def save_vectorstore(vectorstore, filename):\n",
    "    faiss.write_index(vectorstore, filename)\n",
    "\n",
    "save_vectorstore(vectorstore, \"vectorstore.faiss\")"
   ]
  },
  {
   "cell_type": "code",
   "execution_count": 17,
   "id": "ec5695c9",
   "metadata": {},
   "outputs": [],
   "source": [
    "def load_vectorstore(filename):\n",
    "    return faiss.read_index(filename)\n",
    "\n",
    "loaded_vectorstore = load_vectorstore(\"vectorstore.faiss\")"
   ]
  },
  {
   "cell_type": "code",
   "execution_count": null,
   "id": "b39006c3",
   "metadata": {},
   "outputs": [],
   "source": []
  }
 ],
 "metadata": {
  "kernelspec": {
   "display_name": "Python (chatpdf)",
   "language": "python",
   "name": "chatpdf"
  },
  "language_info": {
   "codemirror_mode": {
    "name": "ipython",
    "version": 3
   },
   "file_extension": ".py",
   "mimetype": "text/x-python",
   "name": "python",
   "nbconvert_exporter": "python",
   "pygments_lexer": "ipython3",
   "version": "3.9.4"
  }
 },
 "nbformat": 4,
 "nbformat_minor": 5
}
